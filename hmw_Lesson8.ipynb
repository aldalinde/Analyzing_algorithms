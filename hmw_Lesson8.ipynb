{
 "cells": [
  {
   "cell_type": "code",
   "execution_count": 1,
   "id": "83ffa83f",
   "metadata": {},
   "outputs": [],
   "source": [
    "from sklearn.datasets import load_iris\n",
    "\n",
    "from sklearn.model_selection import train_test_split\n",
    "from sklearn.preprocessing import StandardScaler\n",
    "from sklearn.linear_model import LogisticRegression\n",
    "from sklearn.metrics import accuracy_score\n",
    "\n",
    "import warnings\n",
    "warnings.simplefilter('ignore')\n"
   ]
  },
  {
   "cell_type": "code",
   "execution_count": 2,
   "id": "453041e8",
   "metadata": {},
   "outputs": [],
   "source": [
    "import numpy as np"
   ]
  },
  {
   "cell_type": "markdown",
   "id": "720f4bbd",
   "metadata": {},
   "source": [
    "3*. Написать свою реализацию метода главных компонент с помощью сингулярного разложения с использованием функции numpy.linalg.svd()"
   ]
  },
  {
   "cell_type": "code",
   "execution_count": 3,
   "id": "1e46cca3",
   "metadata": {},
   "outputs": [],
   "source": [
    "X, y = load_iris(return_X_y=True)\n",
    "scaler = StandardScaler()"
   ]
  },
  {
   "cell_type": "code",
   "execution_count": 4,
   "id": "d7340d99",
   "metadata": {},
   "outputs": [],
   "source": [
    "X_scaled = scaler.fit_transform(X)\n",
    "U, D, V = np.linalg.svd(X_scaled)"
   ]
  },
  {
   "cell_type": "code",
   "execution_count": 5,
   "id": "370d70bf",
   "metadata": {},
   "outputs": [
    {
     "data": {
      "text/plain": [
       "array([20.92306556, 11.7091661 ,  4.69185798,  1.76273239])"
      ]
     },
     "execution_count": 5,
     "metadata": {},
     "output_type": "execute_result"
    }
   ],
   "source": [
    "D"
   ]
  },
  {
   "cell_type": "code",
   "execution_count": 6,
   "id": "166ef6a9",
   "metadata": {},
   "outputs": [
    {
     "name": "stdout",
     "output_type": "stream",
     "text": [
      "Part of dispersion depicted by each component \n",
      "[53.529717882362405, 29.95681278402008, 12.003682417209486, 4.509786916408037]\n"
     ]
    }
   ],
   "source": [
    "eig_sum = sum(D)\n",
    "var_exp = [(i / eig_sum) * 100 for i in D]\n",
    "cum_var_exp = np.cumsum(var_exp)\n",
    "print(f'Part of dispersion depicted by each component \\n{var_exp}')"
   ]
  },
  {
   "cell_type": "code",
   "execution_count": 7,
   "id": "bd203b21",
   "metadata": {},
   "outputs": [
    {
     "name": "stdout",
     "output_type": "stream",
     "text": [
      "Cumulative dispersion \n",
      "[ 53.52971788  83.48653067  95.49021308 100.        ]\n"
     ]
    }
   ],
   "source": [
    "print(f'Cumulative dispersion \\n{cum_var_exp}')"
   ]
  },
  {
   "cell_type": "markdown",
   "id": "e14b7aa8",
   "metadata": {},
   "source": [
    "Leaving 3 features of 4    \n",
    "Building weight matrix"
   ]
  },
  {
   "cell_type": "code",
   "execution_count": 8,
   "id": "fa18ac55",
   "metadata": {},
   "outputs": [
    {
     "data": {
      "text/plain": [
       "array([[ 0.52106591, -0.26934744,  0.5804131 ],\n",
       "       [-0.37741762, -0.92329566, -0.02449161],\n",
       "       [ 0.71956635, -0.24438178, -0.14212637],\n",
       "       [ 0.26128628, -0.12350962, -0.80144925]])"
      ]
     },
     "execution_count": 8,
     "metadata": {},
     "output_type": "execute_result"
    }
   ],
   "source": [
    "W = V[:, :3]\n",
    "W"
   ]
  },
  {
   "cell_type": "code",
   "execution_count": 9,
   "id": "77950411",
   "metadata": {},
   "outputs": [
    {
     "data": {
      "text/plain": [
       "array([[ 2.39612466, -4.97204318,  2.51511939],\n",
       "       [ 2.48062028, -4.45652586,  2.41128258],\n",
       "       [ 2.22896694, -4.56287733,  2.30451427],\n",
       "       [ 2.35851538, -4.49248937,  2.22049685],\n",
       "       [ 2.30627631, -5.037438  ,  2.45462892],\n",
       "       [ 2.66960455, -5.52018213,  2.47651892],\n",
       "       [ 2.19946209, -4.75739086,  2.14721708],\n",
       "       [ 2.45371647, -4.87721705,  2.4453146 ],\n",
       "       [ 2.25782909, -4.22952257,  2.12352519],\n",
       "       [ 2.48870653, -4.56094264,  2.4747657 ],\n",
       "       [ 2.54891755, -5.26194472,  2.67013236],\n",
       "       [ 2.42145992, -4.84778574,  2.31501935],\n",
       "       [ 2.40238507, -4.41724016,  2.43338619],\n",
       "       [ 1.9259822 , -4.2092519 ,  2.18581755],\n",
       "       [ 2.42824872, -5.57335786,  2.93758803],\n",
       "       [ 2.49330225, -6.01375784,  2.66682231],\n",
       "       [ 2.38177801, -5.42242942,  2.53336946],\n",
       "       [ 2.42225329, -4.98439414,  2.43497447],\n",
       "       [ 2.83753746, -5.49630584,  2.73323693],\n",
       "       [ 2.38098464, -5.28582102,  2.41341435],\n",
       "       [ 2.8060561 , -5.03383238,  2.64905457],\n",
       "       [ 2.44485503, -5.20584241,  2.33571858],\n",
       "       [ 1.8100234 , -4.83194631,  2.27931423],\n",
       "       [ 2.76586397, -4.89775147,  2.23694503],\n",
       "       [ 2.63732982, -4.92110027,  2.27238144],\n",
       "       [ 2.67664015, -4.53233696,  2.44089861],\n",
       "       [ 2.57793036, -4.92635715,  2.27081212],\n",
       "       [ 2.52018789, -5.0234161 ,  2.55894806],\n",
       "       [ 2.48597301, -4.90664836,  2.57560986],\n",
       "       [ 2.44483685, -4.63619186,  2.26187636],\n",
       "       [ 2.5346852 , -4.57079704,  2.32236683],\n",
       "       [ 2.71440009, -5.00965795,  2.51718999],\n",
       "       [ 2.26760869, -5.56504254,  2.62439802],\n",
       "       [ 2.3403587 , -5.72608912,  2.7301405 ],\n",
       "       [ 2.51483516, -4.57329361,  2.39462078],\n",
       "       [ 2.31333008, -4.61924338,  2.49285084],\n",
       "       [ 2.53259439, -5.05534398,  2.76149727],\n",
       "       [ 2.22804109, -4.9981523 ,  2.47673253],\n",
       "       [ 2.14813069, -4.29741396,  2.13528866],\n",
       "       [ 2.50582306, -4.90415179,  2.50335591],\n",
       "       [ 2.29819006, -4.93302122,  2.39114579],\n",
       "       [ 2.49055824, -3.69039271,  2.13032918],\n",
       "       [ 2.07264717, -4.48207309,  2.13039034],\n",
       "       [ 2.59244585, -5.04338864,  2.10807311],\n",
       "       [ 2.69493981, -5.39592469,  2.27641887],\n",
       "       [ 2.45464232, -4.44194208,  2.27309634],\n",
       "       [ 2.42681265, -5.29790823,  2.47934663],\n",
       "       [ 2.24881699, -4.56038076,  2.23226033],\n",
       "       [ 2.49681096, -5.23500998,  2.61209105],\n",
       "       [ 2.41950159, -4.7604493 ,  2.4619764 ],\n",
       "       [ 6.18748768, -6.16148604,  2.19449564],\n",
       "       [ 5.75706349, -5.96335218,  1.79452813],\n",
       "       [ 6.34316475, -6.10344905,  2.03033329],\n",
       "       [ 5.21573959, -4.74308057,  1.52555183],\n",
       "       [ 6.03209376, -5.64540684,  1.84815345],\n",
       "       [ 5.49102714, -5.38078878,  1.55832546],\n",
       "       [ 5.83725704, -6.08997432,  1.62546746],\n",
       "       [ 4.28327595, -4.46568154,  1.51477804],\n",
       "       [ 5.99420134, -5.73996922,  2.06403545],\n",
       "       [ 4.86262476, -5.01950739,  1.27569897],\n",
       "       [ 4.63026286, -4.17217438,  1.55419072],\n",
       "       [ 5.35614415, -5.57070479,  1.55185782],\n",
       "       [ 5.43562842, -4.74837184,  2.05864231],\n",
       "       [ 5.83175364, -5.64208464,  1.67947134],\n",
       "       [ 4.75356907, -5.22624   ,  1.62574872],\n",
       "       [ 5.85303976, -5.91503771,  2.06545878],\n",
       "       [ 5.41569428, -5.56321509,  1.33509598],\n",
       "       [ 5.21466307, -5.18058836,  1.91610125],\n",
       "       [ 6.03026792, -4.98618703,  1.70293712],\n",
       "       [ 5.06814877, -4.90553435,  1.7531973 ],\n",
       "       [ 5.79078632, -5.93904588,  1.2212489 ],\n",
       "       [ 5.33967033, -5.36633687,  1.86155388],\n",
       "       [ 6.25697577, -5.38786319,  1.6967804 ],\n",
       "       [ 5.81723815, -5.52505315,  1.84221035],\n",
       "       [ 5.67411825, -5.6127852 ,  1.99059074],\n",
       "       [ 5.83867493, -5.7957734 ,  2.00986664],\n",
       "       [ 6.30619818, -5.76273646,  2.07399703],\n",
       "       [ 6.40090722, -6.00639009,  1.74219735],\n",
       "       [ 5.66186241, -5.5786245 ,  1.56971038],\n",
       "       [ 4.76855843, -4.91469498,  1.94578492],\n",
       "       [ 4.9818273 , -4.76183186,  1.71181779],\n",
       "       [ 4.88374204, -4.72504272,  1.80617535],\n",
       "       [ 5.12300705, -5.15641393,  1.78423668],\n",
       "       [ 6.19521437, -5.5529454 ,  1.40918795],\n",
       "       [ 5.3114811 , -5.50934561,  1.21901336],\n",
       "       [ 5.49928223, -6.0526233 ,  1.47731965],\n",
       "       [ 6.0950383 , -6.0007032 ,  1.94267595],\n",
       "       [ 5.92041886, -5.05631124,  1.93303176],\n",
       "       [ 5.07561049, -5.44076046,  1.55223637],\n",
       "       [ 5.14025607, -4.92773971,  1.52065351],\n",
       "       [ 5.36421222, -5.10547102,  1.54149872],\n",
       "       [ 5.72205525, -5.70997603,  1.69123481],\n",
       "       [ 5.23270545, -5.08852254,  1.7724732 ],\n",
       "       [ 4.3731243 , -4.40028672,  1.57526851],\n",
       "       [ 5.26079241, -5.18820994,  1.54537122],\n",
       "       [ 5.17354508, -5.47978242,  1.67620997],\n",
       "       [ 5.23741547, -5.39980381,  1.59851421],\n",
       "       [ 5.56990507, -5.55891571,  1.87450812],\n",
       "       [ 4.16000609, -4.55091703,  1.59090449],\n",
       "       [ 5.2032006 , -5.28303607,  1.61517601],\n",
       "       [ 7.00785095, -6.51882929,  0.71939886],\n",
       "       [ 6.16938707, -5.5361288 ,  1.05267056],\n",
       "       [ 7.36145782, -6.38347652,  1.52586916],\n",
       "       [ 6.68809106, -5.96530158,  1.34706053],\n",
       "       [ 7.00299026, -6.20978084,  1.11168901],\n",
       "       [ 8.12568722, -6.68921749,  1.71658725],\n",
       "       [ 5.29191421, -4.93772598,  0.78076277],\n",
       "       [ 7.71285342, -6.40571627,  1.82798516],\n",
       "       [ 7.19139774, -5.75259865,  1.56059713],\n",
       "       [ 7.43554162, -7.06266886,  1.22021053],\n",
       "       [ 6.37155303, -6.1986708 ,  1.366569  ],\n",
       "       [ 6.62593989, -5.74661362,  1.37249314],\n",
       "       [ 6.9173115 , -6.20491958,  1.40859578],\n",
       "       [ 6.146936  , -5.31244771,  0.93359528],\n",
       "       [ 6.26228845, -5.69021318,  0.64949678],\n",
       "       [ 6.5417456 , -6.2576653 ,  1.03966764],\n",
       "       [ 6.68260584, -6.08706246,  1.47490662],\n",
       "       [ 7.97394498, -7.4915779 ,  1.66067771],\n",
       "       [ 8.59688802, -6.44485043,  1.58149744],\n",
       "       [ 6.28583792, -5.05450843,  1.51579132],\n",
       "       [ 7.0901051 , -6.49009173,  1.27302364],\n",
       "       [ 5.90964749, -5.53806348,  0.88241913],\n",
       "       [ 8.29910534, -6.54358032,  1.84545916],\n",
       "       [ 6.25987813, -5.6095752 ,  1.45144731],\n",
       "       [ 6.8958929 , -6.50384989,  1.31478171],\n",
       "       [ 7.33165164, -6.58245569,  1.80523428],\n",
       "       [ 6.09807314, -5.65053185,  1.40516947],\n",
       "       [ 6.04243966, -5.83269441,  1.3280172 ],\n",
       "       [ 6.85632529, -5.93695965,  1.16711622],\n",
       "       [ 7.21096463, -6.32421828,  1.99884773],\n",
       "       [ 7.68491713, -6.30379605,  1.83675598],\n",
       "       [ 7.810031  , -7.44743093,  1.97968809],\n",
       "       [ 6.88245392, -5.94931061,  1.0869713 ],\n",
       "       [ 6.28766376, -5.71372824,  1.66100764],\n",
       "       [ 6.59258865, -5.58503955,  1.55890509],\n",
       "       [ 7.87026789, -6.61866327,  1.68540189],\n",
       "       [ 6.65615402, -6.50105518,  0.85394517],\n",
       "       [ 6.59275749, -6.15245728,  1.41441615],\n",
       "       [ 5.91837644, -5.78132149,  1.28418853],\n",
       "       [ 6.8597197 , -6.29974571,  1.47840056],\n",
       "       [ 6.97780567, -6.33180546,  1.09345789],\n",
       "       [ 6.69610705, -6.2511331 ,  1.36074862],\n",
       "       [ 6.16938707, -5.5361288 ,  1.05267056],\n",
       "       [ 7.18191177, -6.51203334,  1.18655706],\n",
       "       [ 7.00040741, -6.55325373,  0.99420201],\n",
       "       [ 6.70159226, -6.12937222,  1.23290253],\n",
       "       [ 6.43344692, -5.46170521,  1.36198807],\n",
       "       [ 6.51899319, -6.03844985,  1.35725468],\n",
       "       [ 6.43400553, -6.41289312,  0.90447406],\n",
       "       [ 6.08213975, -5.82770128,  1.18350931]])"
      ]
     },
     "execution_count": 9,
     "metadata": {},
     "output_type": "execute_result"
    }
   ],
   "source": [
    "X_PCA = X @ W\n",
    "X_PCA"
   ]
  },
  {
   "cell_type": "markdown",
   "id": "b33dc86d",
   "metadata": {},
   "source": [
    "4*. Обучить любую модель классификации на датасете iris до применения PCA и после него. Сравнить качество классификации по отложенной выборке.\n",
    "Загрузка данных, разбиение и стандартизация"
   ]
  },
  {
   "cell_type": "code",
   "execution_count": 10,
   "id": "3057b419",
   "metadata": {},
   "outputs": [],
   "source": [
    "X, y = load_iris(return_X_y=True)\n",
    "X_train, X_test, y_train, y_test = train_test_split(X, y, test_size = 0.3, random_state = 5)"
   ]
  },
  {
   "cell_type": "code",
   "execution_count": 11,
   "id": "9d54ea53",
   "metadata": {},
   "outputs": [],
   "source": [
    "scaler = StandardScaler()"
   ]
  },
  {
   "cell_type": "code",
   "execution_count": 12,
   "id": "62475fec",
   "metadata": {},
   "outputs": [],
   "source": [
    "X_train_scaled = scaler.fit_transform(X_train)\n",
    "X_test_scaled = scaler.transform(X_test)"
   ]
  },
  {
   "cell_type": "code",
   "execution_count": 13,
   "id": "b57d62fc",
   "metadata": {},
   "outputs": [
    {
     "data": {
      "text/html": [
       "<style>#sk-container-id-1 {color: black;background-color: white;}#sk-container-id-1 pre{padding: 0;}#sk-container-id-1 div.sk-toggleable {background-color: white;}#sk-container-id-1 label.sk-toggleable__label {cursor: pointer;display: block;width: 100%;margin-bottom: 0;padding: 0.3em;box-sizing: border-box;text-align: center;}#sk-container-id-1 label.sk-toggleable__label-arrow:before {content: \"▸\";float: left;margin-right: 0.25em;color: #696969;}#sk-container-id-1 label.sk-toggleable__label-arrow:hover:before {color: black;}#sk-container-id-1 div.sk-estimator:hover label.sk-toggleable__label-arrow:before {color: black;}#sk-container-id-1 div.sk-toggleable__content {max-height: 0;max-width: 0;overflow: hidden;text-align: left;background-color: #f0f8ff;}#sk-container-id-1 div.sk-toggleable__content pre {margin: 0.2em;color: black;border-radius: 0.25em;background-color: #f0f8ff;}#sk-container-id-1 input.sk-toggleable__control:checked~div.sk-toggleable__content {max-height: 200px;max-width: 100%;overflow: auto;}#sk-container-id-1 input.sk-toggleable__control:checked~label.sk-toggleable__label-arrow:before {content: \"▾\";}#sk-container-id-1 div.sk-estimator input.sk-toggleable__control:checked~label.sk-toggleable__label {background-color: #d4ebff;}#sk-container-id-1 div.sk-label input.sk-toggleable__control:checked~label.sk-toggleable__label {background-color: #d4ebff;}#sk-container-id-1 input.sk-hidden--visually {border: 0;clip: rect(1px 1px 1px 1px);clip: rect(1px, 1px, 1px, 1px);height: 1px;margin: -1px;overflow: hidden;padding: 0;position: absolute;width: 1px;}#sk-container-id-1 div.sk-estimator {font-family: monospace;background-color: #f0f8ff;border: 1px dotted black;border-radius: 0.25em;box-sizing: border-box;margin-bottom: 0.5em;}#sk-container-id-1 div.sk-estimator:hover {background-color: #d4ebff;}#sk-container-id-1 div.sk-parallel-item::after {content: \"\";width: 100%;border-bottom: 1px solid gray;flex-grow: 1;}#sk-container-id-1 div.sk-label:hover label.sk-toggleable__label {background-color: #d4ebff;}#sk-container-id-1 div.sk-serial::before {content: \"\";position: absolute;border-left: 1px solid gray;box-sizing: border-box;top: 0;bottom: 0;left: 50%;z-index: 0;}#sk-container-id-1 div.sk-serial {display: flex;flex-direction: column;align-items: center;background-color: white;padding-right: 0.2em;padding-left: 0.2em;position: relative;}#sk-container-id-1 div.sk-item {position: relative;z-index: 1;}#sk-container-id-1 div.sk-parallel {display: flex;align-items: stretch;justify-content: center;background-color: white;position: relative;}#sk-container-id-1 div.sk-item::before, #sk-container-id-1 div.sk-parallel-item::before {content: \"\";position: absolute;border-left: 1px solid gray;box-sizing: border-box;top: 0;bottom: 0;left: 50%;z-index: -1;}#sk-container-id-1 div.sk-parallel-item {display: flex;flex-direction: column;z-index: 1;position: relative;background-color: white;}#sk-container-id-1 div.sk-parallel-item:first-child::after {align-self: flex-end;width: 50%;}#sk-container-id-1 div.sk-parallel-item:last-child::after {align-self: flex-start;width: 50%;}#sk-container-id-1 div.sk-parallel-item:only-child::after {width: 0;}#sk-container-id-1 div.sk-dashed-wrapped {border: 1px dashed gray;margin: 0 0.4em 0.5em 0.4em;box-sizing: border-box;padding-bottom: 0.4em;background-color: white;}#sk-container-id-1 div.sk-label label {font-family: monospace;font-weight: bold;display: inline-block;line-height: 1.2em;}#sk-container-id-1 div.sk-label-container {text-align: center;}#sk-container-id-1 div.sk-container {/* jupyter's `normalize.less` sets `[hidden] { display: none; }` but bootstrap.min.css set `[hidden] { display: none !important; }` so we also need the `!important` here to be able to override the default hidden behavior on the sphinx rendered scikit-learn.org. See: https://github.com/scikit-learn/scikit-learn/issues/21755 */display: inline-block !important;position: relative;}#sk-container-id-1 div.sk-text-repr-fallback {display: none;}</style><div id=\"sk-container-id-1\" class=\"sk-top-container\"><div class=\"sk-text-repr-fallback\"><pre>LogisticRegression()</pre><b>In a Jupyter environment, please rerun this cell to show the HTML representation or trust the notebook. <br />On GitHub, the HTML representation is unable to render, please try loading this page with nbviewer.org.</b></div><div class=\"sk-container\" hidden><div class=\"sk-item\"><div class=\"sk-estimator sk-toggleable\"><input class=\"sk-toggleable__control sk-hidden--visually\" id=\"sk-estimator-id-1\" type=\"checkbox\" checked><label for=\"sk-estimator-id-1\" class=\"sk-toggleable__label sk-toggleable__label-arrow\">LogisticRegression</label><div class=\"sk-toggleable__content\"><pre>LogisticRegression()</pre></div></div></div></div></div>"
      ],
      "text/plain": [
       "LogisticRegression()"
      ]
     },
     "execution_count": 13,
     "metadata": {},
     "output_type": "execute_result"
    }
   ],
   "source": [
    "lr = LogisticRegression()\n",
    "lr.fit(X_train, y_train)"
   ]
  },
  {
   "cell_type": "code",
   "execution_count": 14,
   "id": "4e6d65d1",
   "metadata": {},
   "outputs": [],
   "source": [
    "y_pred_train = lr.predict(X_train)\n",
    "y_pred_test = lr.predict(X_test)"
   ]
  },
  {
   "cell_type": "code",
   "execution_count": 15,
   "id": "b86c64ee",
   "metadata": {},
   "outputs": [
    {
     "name": "stdout",
     "output_type": "stream",
     "text": [
      "0.9809523809523809 0.9777777777777777\n"
     ]
    }
   ],
   "source": [
    "print(accuracy_score(y_train, y_pred_train), accuracy_score(y_test, y_pred_test))"
   ]
  },
  {
   "cell_type": "code",
   "execution_count": 16,
   "id": "82cd4550",
   "metadata": {},
   "outputs": [],
   "source": [
    "lr_PCA = LogisticRegression()"
   ]
  },
  {
   "cell_type": "code",
   "execution_count": 17,
   "id": "1f64e247",
   "metadata": {},
   "outputs": [],
   "source": [
    "X_PCAtrain, X_PCAtest, y_train, y_test = train_test_split(X_PCA, y, test_size = 0.3, random_state = 5)"
   ]
  },
  {
   "cell_type": "code",
   "execution_count": 18,
   "id": "32d7912b",
   "metadata": {},
   "outputs": [
    {
     "data": {
      "text/html": [
       "<style>#sk-container-id-2 {color: black;background-color: white;}#sk-container-id-2 pre{padding: 0;}#sk-container-id-2 div.sk-toggleable {background-color: white;}#sk-container-id-2 label.sk-toggleable__label {cursor: pointer;display: block;width: 100%;margin-bottom: 0;padding: 0.3em;box-sizing: border-box;text-align: center;}#sk-container-id-2 label.sk-toggleable__label-arrow:before {content: \"▸\";float: left;margin-right: 0.25em;color: #696969;}#sk-container-id-2 label.sk-toggleable__label-arrow:hover:before {color: black;}#sk-container-id-2 div.sk-estimator:hover label.sk-toggleable__label-arrow:before {color: black;}#sk-container-id-2 div.sk-toggleable__content {max-height: 0;max-width: 0;overflow: hidden;text-align: left;background-color: #f0f8ff;}#sk-container-id-2 div.sk-toggleable__content pre {margin: 0.2em;color: black;border-radius: 0.25em;background-color: #f0f8ff;}#sk-container-id-2 input.sk-toggleable__control:checked~div.sk-toggleable__content {max-height: 200px;max-width: 100%;overflow: auto;}#sk-container-id-2 input.sk-toggleable__control:checked~label.sk-toggleable__label-arrow:before {content: \"▾\";}#sk-container-id-2 div.sk-estimator input.sk-toggleable__control:checked~label.sk-toggleable__label {background-color: #d4ebff;}#sk-container-id-2 div.sk-label input.sk-toggleable__control:checked~label.sk-toggleable__label {background-color: #d4ebff;}#sk-container-id-2 input.sk-hidden--visually {border: 0;clip: rect(1px 1px 1px 1px);clip: rect(1px, 1px, 1px, 1px);height: 1px;margin: -1px;overflow: hidden;padding: 0;position: absolute;width: 1px;}#sk-container-id-2 div.sk-estimator {font-family: monospace;background-color: #f0f8ff;border: 1px dotted black;border-radius: 0.25em;box-sizing: border-box;margin-bottom: 0.5em;}#sk-container-id-2 div.sk-estimator:hover {background-color: #d4ebff;}#sk-container-id-2 div.sk-parallel-item::after {content: \"\";width: 100%;border-bottom: 1px solid gray;flex-grow: 1;}#sk-container-id-2 div.sk-label:hover label.sk-toggleable__label {background-color: #d4ebff;}#sk-container-id-2 div.sk-serial::before {content: \"\";position: absolute;border-left: 1px solid gray;box-sizing: border-box;top: 0;bottom: 0;left: 50%;z-index: 0;}#sk-container-id-2 div.sk-serial {display: flex;flex-direction: column;align-items: center;background-color: white;padding-right: 0.2em;padding-left: 0.2em;position: relative;}#sk-container-id-2 div.sk-item {position: relative;z-index: 1;}#sk-container-id-2 div.sk-parallel {display: flex;align-items: stretch;justify-content: center;background-color: white;position: relative;}#sk-container-id-2 div.sk-item::before, #sk-container-id-2 div.sk-parallel-item::before {content: \"\";position: absolute;border-left: 1px solid gray;box-sizing: border-box;top: 0;bottom: 0;left: 50%;z-index: -1;}#sk-container-id-2 div.sk-parallel-item {display: flex;flex-direction: column;z-index: 1;position: relative;background-color: white;}#sk-container-id-2 div.sk-parallel-item:first-child::after {align-self: flex-end;width: 50%;}#sk-container-id-2 div.sk-parallel-item:last-child::after {align-self: flex-start;width: 50%;}#sk-container-id-2 div.sk-parallel-item:only-child::after {width: 0;}#sk-container-id-2 div.sk-dashed-wrapped {border: 1px dashed gray;margin: 0 0.4em 0.5em 0.4em;box-sizing: border-box;padding-bottom: 0.4em;background-color: white;}#sk-container-id-2 div.sk-label label {font-family: monospace;font-weight: bold;display: inline-block;line-height: 1.2em;}#sk-container-id-2 div.sk-label-container {text-align: center;}#sk-container-id-2 div.sk-container {/* jupyter's `normalize.less` sets `[hidden] { display: none; }` but bootstrap.min.css set `[hidden] { display: none !important; }` so we also need the `!important` here to be able to override the default hidden behavior on the sphinx rendered scikit-learn.org. See: https://github.com/scikit-learn/scikit-learn/issues/21755 */display: inline-block !important;position: relative;}#sk-container-id-2 div.sk-text-repr-fallback {display: none;}</style><div id=\"sk-container-id-2\" class=\"sk-top-container\"><div class=\"sk-text-repr-fallback\"><pre>LogisticRegression()</pre><b>In a Jupyter environment, please rerun this cell to show the HTML representation or trust the notebook. <br />On GitHub, the HTML representation is unable to render, please try loading this page with nbviewer.org.</b></div><div class=\"sk-container\" hidden><div class=\"sk-item\"><div class=\"sk-estimator sk-toggleable\"><input class=\"sk-toggleable__control sk-hidden--visually\" id=\"sk-estimator-id-2\" type=\"checkbox\" checked><label for=\"sk-estimator-id-2\" class=\"sk-toggleable__label sk-toggleable__label-arrow\">LogisticRegression</label><div class=\"sk-toggleable__content\"><pre>LogisticRegression()</pre></div></div></div></div></div>"
      ],
      "text/plain": [
       "LogisticRegression()"
      ]
     },
     "execution_count": 18,
     "metadata": {},
     "output_type": "execute_result"
    }
   ],
   "source": [
    "lr_PCA.fit(X_PCAtrain, y_train)"
   ]
  },
  {
   "cell_type": "code",
   "execution_count": 19,
   "id": "c23adef0",
   "metadata": {},
   "outputs": [],
   "source": [
    "y_pred_train = lr_PCA.predict(X_PCAtrain)\n",
    "y_pred_test = lr_PCA.predict(X_PCAtest)"
   ]
  },
  {
   "cell_type": "code",
   "execution_count": 20,
   "id": "a988136c",
   "metadata": {},
   "outputs": [
    {
     "name": "stdout",
     "output_type": "stream",
     "text": [
      "0.9714285714285714 0.9555555555555556\n"
     ]
    }
   ],
   "source": [
    "print(accuracy_score(y_train, y_pred_train), accuracy_score(y_test, y_pred_test))\n"
   ]
  },
  {
   "cell_type": "markdown",
   "id": "497b6f49",
   "metadata": {},
   "source": [
    "**results worse after PCA**"
   ]
  }
 ],
 "metadata": {
  "kernelspec": {
   "display_name": "Python 3 (ipykernel)",
   "language": "python",
   "name": "python3"
  },
  "language_info": {
   "codemirror_mode": {
    "name": "ipython",
    "version": 3
   },
   "file_extension": ".py",
   "mimetype": "text/x-python",
   "name": "python",
   "nbconvert_exporter": "python",
   "pygments_lexer": "ipython3",
   "version": "3.9.13"
  }
 },
 "nbformat": 4,
 "nbformat_minor": 5
}
